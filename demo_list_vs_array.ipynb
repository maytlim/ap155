{
 "cells": [
  {
   "cell_type": "markdown",
   "source": [
    "This problem came by way of a DM consultation. Sharing it with everyone as this is an excellent problem to illustrate several key ideas. We're also going to show why you may want to use numpy arrays and the notion of vectorization.\n",
    "\n",
    "#### Problem\n",
    "Given a list of numbers [-1, 2, 3, -4, 5, 8], find the sum of all the positive numbers."
   ],
   "metadata": {}
  },
  {
   "cell_type": "code",
   "execution_count": 1,
   "source": [
    "raw_numbers = [-1, 2, 3, -4, 5, 8]"
   ],
   "outputs": [],
   "metadata": {}
  },
  {
   "cell_type": "markdown",
   "source": [
    "One approach would be to go through the list and check entry-by-entry if it's greater than 0, and add it to the variable holding the running sum. We'll call the variable for the running sum ``total`` and initialize it's value to zero.\n",
    "\n",
    "To go through each entry, we use ``for`` entry ``in`` list. For each entry, check ``if`` the entry is greater than 0. I'll write the solution inside a function so we can easily call it later."
   ],
   "metadata": {}
  },
  {
   "cell_type": "code",
   "execution_count": 2,
   "source": [
    "def list_sum(raw_numbers):\n",
    "    total = 0\n",
    "    for number in raw_numbers:\n",
    "        if number > 0:\n",
    "            total += number   #this is a shorter way of writing: total = total + number\n",
    "    return total"
   ],
   "outputs": [],
   "metadata": {}
  },
  {
   "cell_type": "code",
   "execution_count": 3,
   "source": [
    "list_sum(raw_numbers)"
   ],
   "outputs": [
    {
     "output_type": "execute_result",
     "data": {
      "text/plain": [
       "18"
      ]
     },
     "metadata": {},
     "execution_count": 3
    }
   ],
   "metadata": {}
  },
  {
   "cell_type": "markdown",
   "source": [
    "Now, let's look at how we can do this using a ``numpy.array`` and avoid using a ``for`` loop. Google: vectorization. Let's import ``numpy`` first."
   ],
   "metadata": {}
  },
  {
   "cell_type": "code",
   "execution_count": 4,
   "source": [
    "import numpy as np"
   ],
   "outputs": [],
   "metadata": {}
  },
  {
   "cell_type": "code",
   "execution_count": 5,
   "source": [
    "def array_sum(raw_numbers):\n",
    "    numbers = np.array(raw_numbers)\n",
    "    total = np.sum((numbers > 0) * numbers)\n",
    "    return total"
   ],
   "outputs": [],
   "metadata": {}
  },
  {
   "cell_type": "code",
   "execution_count": 6,
   "source": [
    "array_sum(raw_numbers)"
   ],
   "outputs": [
    {
     "output_type": "execute_result",
     "data": {
      "text/plain": [
       "18"
      ]
     },
     "metadata": {},
     "execution_count": 6
    }
   ],
   "metadata": {}
  },
  {
   "cell_type": "markdown",
   "source": [
    "Let's go through each step:\n",
    "- ``numbers = np.array(raw_numbers)`` converts the list of integers into a numpy array.\n",
    "- ``(numbers > 0)`` checks if the entries are greater than zero. The output of this is Boolean, i.e. True or False\n",
    "- Array multiplication multiplies aligned entries. When you multiply an integer by ``True``, that's equivalent to multiplying it by 1, and when you use ``False``, that's equivalent multiplying by zero. Try it: ``2 * True`` vs. ``2 * False``.  \n",
    "- ``np.sum(array)`` would sum up all the elements in the array. For arrays in more than one dimension, you can specify if you're summing along a certain ``axis``. Run ``np.sum?``"
   ],
   "metadata": {}
  },
  {
   "cell_type": "markdown",
   "source": [
    "The advantage of vectorization over loops becomes clear as your array size increases. Let's make a large list of random integers."
   ],
   "metadata": {}
  },
  {
   "cell_type": "code",
   "execution_count": 7,
   "source": [
    "n = 10000000\n",
    "low_int = -30\n",
    "high_int = 30\n",
    "n_numbers = np.random.randint(low=low_int, high=high_int, size=n)"
   ],
   "outputs": [],
   "metadata": {}
  },
  {
   "cell_type": "code",
   "execution_count": 8,
   "source": [
    "%%timeit \n",
    "list_sum(n_numbers)"
   ],
   "outputs": [
    {
     "output_type": "stream",
     "name": "stdout",
     "text": [
      "1.75 s ± 6.14 ms per loop (mean ± std. dev. of 7 runs, 1 loop each)\n"
     ]
    }
   ],
   "metadata": {}
  },
  {
   "cell_type": "code",
   "execution_count": 9,
   "source": [
    "%%timeit \n",
    "array_sum(n_numbers)"
   ],
   "outputs": [
    {
     "output_type": "stream",
     "name": "stdout",
     "text": [
      "48 ms ± 175 µs per loop (mean ± std. dev. of 7 runs, 10 loops each)\n"
     ]
    }
   ],
   "metadata": {}
  },
  {
   "cell_type": "code",
   "execution_count": null,
   "source": [],
   "outputs": [],
   "metadata": {}
  }
 ],
 "metadata": {
  "orig_nbformat": 4,
  "language_info": {
   "name": "python",
   "version": "3.9.2",
   "mimetype": "text/x-python",
   "codemirror_mode": {
    "name": "ipython",
    "version": 3
   },
   "pygments_lexer": "ipython3",
   "nbconvert_exporter": "python",
   "file_extension": ".py"
  },
  "kernelspec": {
   "name": "python3",
   "display_name": "Python 3.9.2 64-bit ('ap157': conda)"
  },
  "interpreter": {
   "hash": "2e2f675495dea493b81c9a65abe73841a1050de1b392f13513f9fd722b083715"
  }
 },
 "nbformat": 4,
 "nbformat_minor": 2
}