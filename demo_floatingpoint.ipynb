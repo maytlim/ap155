{
 "cells": [
  {
   "cell_type": "markdown",
   "source": [
    "### Beyond 'hello world!'\n",
    "#### Assumption: You've scanned through one of the introduction to python tutorials.\n",
    "\n",
    "In this notebook, we'll demo some of the basics: printing output, assigning variables, iterating, defining functions. The true purpose of this notebook though is to show why it's important to understand the notion of floating-point representations."
   ],
   "metadata": {}
  },
  {
   "cell_type": "code",
   "execution_count": null,
   "source": [
    "n = 3\n",
    "for i in range(n):\n",
    "    print(i)"
   ],
   "outputs": [],
   "metadata": {}
  },
  {
   "cell_type": "code",
   "execution_count": null,
   "source": [],
   "outputs": [],
   "metadata": {}
  }
 ],
 "metadata": {
  "orig_nbformat": 4,
  "language_info": {
   "name": "python",
   "version": "3.9.1"
  },
  "kernelspec": {
   "name": "python3",
   "display_name": "Python 3.9.1 64-bit ('maps': conda)"
  },
  "interpreter": {
   "hash": "ac0d48c8b5b81f45add7b95ae60bcb75e682a353c3b5314de99ac996f9173886"
  }
 },
 "nbformat": 4,
 "nbformat_minor": 2
}