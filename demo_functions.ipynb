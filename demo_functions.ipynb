{
 "cells": [
  {
   "cell_type": "code",
   "execution_count": 58,
   "source": [
    "import numpy as np\n",
    "import matplotlib.pyplot as plt"
   ],
   "outputs": [],
   "metadata": {}
  },
  {
   "cell_type": "code",
   "execution_count": 100,
   "source": [
    "def integrate_trapezoidal(f, eval_x, **f_settings):\n",
    "    y = f(eval_x, **f_settings)            #evaluate the function\n",
    "    h = eval_x[1] - eval_x[0]         #obtain step size, assume equally spaced\n",
    "    area = h*(np.sum(y) - 0.5*f(eval_x[0], **f_settings) - 0.5*f(eval_x[-1], **f_settings))\n",
    "    return area"
   ],
   "outputs": [],
   "metadata": {}
  },
  {
   "cell_type": "code",
   "execution_count": 101,
   "source": [
    "def bessel_integrand(tau, n, x):\n",
    "    return np.cos(n*tau - x*np.sin(tau))/np.pi"
   ],
   "outputs": [],
   "metadata": {}
  },
  {
   "cell_type": "code",
   "execution_count": 102,
   "source": [
    "def besselJ(n, x, resolution=100):\n",
    "    tau = np.linspace(0, np.pi, resolution)\n",
    "    return integrate_trapezoidal(bessel_integrand, tau, n=n, x=x)"
   ],
   "outputs": [],
   "metadata": {}
  },
  {
   "cell_type": "code",
   "execution_count": 103,
   "source": [
    "plot_x = np.linspace(0, 10, 100)\n",
    "plot_y = []\n",
    "for x in plot_x:\n",
    "    plot_y.append(besselJ(0,x))\n",
    "plt.plot(plot_x, plot_y)"
   ],
   "outputs": [
    {
     "output_type": "execute_result",
     "data": {
      "text/plain": [
       "[<matplotlib.lines.Line2D at 0x11411f280>]"
      ]
     },
     "metadata": {},
     "execution_count": 103
    },
    {
     "output_type": "display_data",
     "data": {
      "image/png": "[encoded data removed]",
      "text/plain": [
       "<Figure size 432x288 with 1 Axes>"
      ]
     },
     "metadata": {
      "needs_background": "light"
     }
    }
   ],
   "metadata": {}
  },
  {
   "cell_type": "code",
   "execution_count": null,
   "source": [],
   "outputs": [],
   "metadata": {}
  },
  {
   "cell_type": "code",
   "execution_count": null,
   "source": [],
   "outputs": [],
   "metadata": {}
  }
 ],
 "metadata": {
  "orig_nbformat": 4,
  "language_info": {
   "name": "python",
   "version": "3.9.1",
   "mimetype": "text/x-python",
   "codemirror_mode": {
    "name": "ipython",
    "version": 3
   },
   "pygments_lexer": "ipython3",
   "nbconvert_exporter": "python",
   "file_extension": ".py"
  },
  "kernelspec": {
   "name": "python3",
   "display_name": "Python 3.9.1 64-bit ('networks': conda)"
  },
  "interpreter": {
   "hash": "45b94c38c4b801ca642affd752b611b77a4facf4c8c5010c2d00d374f65a0b5d"
  }
 },
 "nbformat": 4,
 "nbformat_minor": 2
}